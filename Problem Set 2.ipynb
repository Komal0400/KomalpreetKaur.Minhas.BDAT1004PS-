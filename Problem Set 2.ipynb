{
 "cells": [
  {
   "cell_type": "markdown",
   "id": "42a2aad6",
   "metadata": {},
   "source": [
    "Ques 1"
   ]
  },
  {
   "cell_type": "code",
   "execution_count": 2,
   "id": "766f7588",
   "metadata": {},
   "outputs": [
    {
     "name": "stdout",
     "output_type": "stream",
     "text": [
      "latest value of a =  6\n"
     ]
    }
   ],
   "source": [
    "a = 0       \n",
    "def b():    \n",
    " global a    \n",
    " a = c(a)    \n",
    "\n",
    "def c(a):    \n",
    " return a + 2    \n",
    "\n",
    "b()      \n",
    "b()      \n",
    "b()    \n",
    "a    \n",
    "print(\"latest value of a = \",a) "
   ]
  },
  {
   "cell_type": "markdown",
   "id": "270f5da9",
   "metadata": {},
   "source": [
    "Ques 2"
   ]
  },
  {
   "cell_type": "code",
   "execution_count": 1,
   "id": "d72fb28c",
   "metadata": {},
   "outputs": [],
   "source": [
    "def fileLength(fileName):\n",
    "    try:    \n",
    "        fileLen = -1\n",
    "        f = open (fileName)\n",
    "        f = f.read();\n",
    "        fileLen = len(f)\n",
    "        print(fileLen)\n",
    "    except (FileNotFoundError):\n",
    "        print(\"File \"+fileName+ \" not found\")\n",
    "    except:\n",
    "        print(\"Something Wrong!!\")"
   ]
  },
  {
   "cell_type": "code",
   "execution_count": 2,
   "id": "6281796d",
   "metadata": {},
   "outputs": [
    {
     "name": "stdout",
     "output_type": "stream",
     "text": [
      "Please Enter File Name to Get the Length: w3c.txt\n",
      "123\n",
      "\n",
      "\n",
      "Please Enter File Name to Get the Lengthw3c.txt\n",
      "123\n"
     ]
    }
   ],
   "source": [
    "fileName = input(\"Please Enter File Name to Get the Length: \")\n",
    "fileLength(fileName)\n",
    "\n",
    "fileName = input(\"\\n\\nPlease Enter File Name to Get the Length\")\n",
    "fileLength(fileName)\n"
   ]
  },
  {
   "cell_type": "markdown",
   "id": "3b412cac",
   "metadata": {},
   "source": [
    "Ques 3"
   ]
  },
  {
   "cell_type": "code",
   "execution_count": 4,
   "id": "aa953b0b",
   "metadata": {},
   "outputs": [
    {
     "name": "stdout",
     "output_type": "stream",
     "text": [
      "['doll', 'firetruck', 'kitten'] \n",
      "\n",
      "I am a Kangaroo located at coordinates (0,0)\n",
      "\n",
      "['doll', 'firetruck', 'kitten', 'doll', 'firetruck', 'kitten'] \n",
      "\n",
      "I am a Kangaroo located at coordinates (3,0)\n",
      "\n"
     ]
    }
   ],
   "source": [
    "class Marsupial:\n",
    "    lst=[]\n",
    "    def init(self): \n",
    "        self.lst = []\n",
    "        \n",
    "    def put_in_pouch(self, item):\n",
    "        self.lst.append(item)\n",
    "        \n",
    " \n",
    "    def pouch_contents(self):\n",
    "        return self.lst\n",
    "\n",
    "class Kangaroo(Marsupial):\n",
    "\n",
    "    def __init__(self,x,y):\n",
    "\n",
    "            Marsupial.__init__(self)\n",
    "\n",
    "            self.x = x\n",
    "\n",
    "            self.y = y\n",
    "\n",
    "    def jump(self,dx,dy):\n",
    "\n",
    "        self.x += dx\n",
    "\n",
    "        self.y += dy\n",
    "\n",
    "    def __str__(self):\n",
    "\n",
    "        return 'I am a Kangaroo located at coordinates ({},{})'.format(self.x,self.y)+'\\n'\n",
    "\n",
    "m = Marsupial() \n",
    "m.put_in_pouch('doll') \n",
    "m.put_in_pouch('firetruck') \n",
    "m.put_in_pouch('kitten') \n",
    "print(m.pouch_contents(),\"\\n\")\n",
    "\n",
    "k = Kangaroo(0,0) \n",
    "print(k) \n",
    "k.put_in_pouch('doll')\n",
    "k.put_in_pouch('firetruck') \n",
    "k.put_in_pouch('kitten') \n",
    "print(k.pouch_contents(),\"\\n\") \n",
    "k.jump(1,0) \n",
    "k.jump(1,0)\n",
    "k.jump(1,0)\n",
    "print(k)"
   ]
  },
  {
   "cell_type": "markdown",
   "id": "495a6067",
   "metadata": {},
   "source": [
    "Ques 4"
   ]
  },
  {
   "cell_type": "code",
   "execution_count": 5,
   "id": "a5e04343",
   "metadata": {},
   "outputs": [
    {
     "name": "stdout",
     "output_type": "stream",
     "text": [
      "input any integer : 5\n",
      "5\n",
      "16\n",
      "8\n",
      "4\n",
      "2\n",
      "1\n"
     ]
    }
   ],
   "source": [
    "\n",
    "def collatz(x):\n",
    "    \n",
    "    print(x)\n",
    "    if x==1:\n",
    "        return\n",
    "    elif x%2==0:\n",
    "        return collatz(x//2)  #call method recursively\n",
    "    else:\n",
    "        return collatz((x*3)+1)  #call method recursively\n",
    "\n",
    "x=int(input(\"input any integer : \"))\n",
    "collatz(x)\n"
   ]
  },
  {
   "cell_type": "markdown",
   "id": "b7ab5dc2",
   "metadata": {},
   "source": [
    "Ques 5"
   ]
  },
  {
   "cell_type": "code",
   "execution_count": 1,
   "id": "a66816e0",
   "metadata": {},
   "outputs": [
    {
     "name": "stdout",
     "output_type": "stream",
     "text": [
      "enter any integer : 5\n",
      "101\n"
     ]
    }
   ],
   "source": [
    "def binary( n ):\n",
    "    if n == 0:\n",
    "        return 0\n",
    "    else:\n",
    "       \n",
    "        return  n % 2 + 10 * binary(int(n // 2))\n",
    "\n",
    "n = int(input(\"enter any integer : \"))\n",
    "print(binary(n))"
   ]
  },
  {
   "cell_type": "markdown",
   "id": "fcc41d42",
   "metadata": {},
   "source": [
    "Ques 6"
   ]
  },
  {
   "cell_type": "code",
   "execution_count": 5,
   "id": "7b186fa0",
   "metadata": {},
   "outputs": [
    {
     "name": "stdout",
     "output_type": "stream",
     "text": [
      "W3C Mission\n",
      "\n",
      "\t\n",
      " Principles\n",
      " \n",
      " \n",
      "\n",
      "\n",
      "\n",
      " \n",
      "\n"
     ]
    }
   ],
   "source": [
    "import re\n",
    "from html.parser import HTMLParser\n",
    "infile = open('w3c.html') \n",
    "content = infile.read() \n",
    "infile.close()\n",
    "\n",
    "class HeadingParser(HTMLParser):\n",
    "    def handle_starttag(self, tag, attrs):\n",
    "        global getHeading\n",
    "        match = re.match(r'h(\\d)', tag, re.I) \n",
    "        if match: getHeading = int(match.group(1))\n",
    "            \n",
    "    def handle_endtag(self, tag):\n",
    "        match = re.match(r'h(\\d)', tag, re.I)\n",
    "        if match: getHeading = 0\n",
    "\n",
    "    def handle_data(self, data):\n",
    "        if getHeading > 0:\n",
    "            tab = getHeading - 1\n",
    "            out = \" \"*tab\n",
    "            print(out+data)\n",
    "            \n",
    "getHeading = 0\n",
    "hp = HeadingParser()\n",
    "hp.feed(content)"
   ]
  },
  {
   "cell_type": "markdown",
   "id": "906df1fb",
   "metadata": {},
   "source": [
    "Ques 7"
   ]
  },
  {
   "cell_type": "code",
   "execution_count": 6,
   "id": "b5adc3fc",
   "metadata": {},
   "outputs": [
    {
     "name": "stdout",
     "output_type": "stream",
     "text": [
      "http://reed.cs.depaul.edu/lperkovic/csc242/test1.html\n"
     ]
    }
   ],
   "source": [
    "import requests\n",
    "\n",
    "from bs4 import BeautifulSoup   \n",
    "\n",
    "def webdir(url, depth, indent):\n",
    "    resp = requests.get(url)\n",
    "    print(url)\n",
    "    if(depth == indent):\n",
    "        return\n",
    "    soup = BeautifulSoup(resp.text, 'html.parser')  \n",
    "    for link in soup.findAll('a'):\n",
    "        new_link = link.get('href')\n",
    "        if(new_link.startswith('https')):\n",
    "            webdir(new_link, depth, indent+1)\n",
    "\n",
    "webdir('http://reed.cs.depaul.edu/lperkovic/csc242/test1.html', 2, 0)\n",
    "        "
   ]
  },
  {
   "cell_type": "markdown",
   "id": "394b41df",
   "metadata": {},
   "source": [
    "Ques 8"
   ]
  },
  {
   "cell_type": "code",
   "execution_count": 3,
   "id": "327dbb79",
   "metadata": {},
   "outputs": [
    {
     "name": "stdout",
     "output_type": "stream",
     "text": [
      "(24.8,)(28.4,)(27.9,)(27.6,)(4.2,)(8.3,)(15.7,)(10.4,)(13.6,)(20.7,)(27.7,)(22.2,)\n",
      "('Mumbai',)('London',)('Cairo',)\n",
      "('Mumbai', 'India', 'Winter', 24.8, 5.9)('Mumbai', 'India', 'Spring', 28.4, 16.2)('Mumbai', 'India', 'Summer', 27.9, 1549.4)('Mumbai', 'India', 'Fall', 27.6, 346)\n",
      "('Mumbai', 'India', 'Fall', 27.6, 346)('London', 'United Kingdom', 'Fall', 10.4, 218.5)('Cairo', 'Egypt', 'Fall', 22.2, 4.5)\n",
      "('Mumbai', 'India', 'Fall')('London', 'United Kingdom', 'Winter')('London', 'United Kingdom', 'Fall')\n",
      "('Cairo', 'Egypt')('Mumbai', 'India')\n",
      "(27.6,)\n",
      "('Fall', 569.0)('Spring', 192.29999999999998)('Summer', 1706.5)('Winter', 230.1)"
     ]
    }
   ],
   "source": [
    "import sqlite3\n",
    "conn = sqlite3.connect('monsoon.db')\n",
    "conn.execute('''\n",
    "CREATE TABLE IF NOT EXISTS seasonal_info (city text, \n",
    "                      country text, \n",
    "                      Season integer, \n",
    "                      temp integer,\n",
    "                      rainfall integer);''')\n",
    "conn.commit()\n",
    "my_cursor = conn.cursor()\n",
    "conn.execute(\"INSERT INTO seasonal_info VALUES('Mumbai', 'India', 'Winter', 24.8, 5.9);\")\n",
    "conn.execute(\"INSERT INTO seasonal_info VALUES('Mumbai', 'India', 'Spring', 28.4, 16.2);\")\n",
    "conn.execute(\"INSERT INTO seasonal_info VALUES('Mumbai', 'India', 'Summer', 27.9, 1549.4);\")\n",
    "conn.execute(\"INSERT INTO seasonal_info VALUES('Mumbai', 'India', 'Fall', 27.6, 346.0);\")\n",
    "conn.execute(\"INSERT INTO seasonal_info VALUES('London', 'United Kingdom', 'Winter', 4.2, 207.7);\")\n",
    "conn.execute(\"INSERT INTO seasonal_info VALUES('London', 'United Kingdom', 'Spring', 8.3, 169.6 );\")\n",
    "conn.execute(\"INSERT INTO seasonal_info VALUES('London', 'United Kingdom', 'Summer', 15.7, 157.0);\")\n",
    "conn.execute(\"INSERT INTO seasonal_info VALUES('London', 'United Kingdom', 'Fall', 10.4, 218.5);\")\n",
    "conn.execute(\"INSERT INTO seasonal_info VALUES('Cairo', 'Egypt', 'Winter', 13.6, 16.5);\")\n",
    "conn.execute(\"INSERT INTO seasonal_info VALUES('Cairo', 'Egypt', 'Spring', 20.7, 6.5);\")\n",
    "conn.execute(\"INSERT INTO seasonal_info VALUES('Cairo', 'Egypt', 'Summer', 27.7, 0.1);\")\n",
    "conn.execute(\"INSERT INTO seasonal_info VALUES('Cairo', 'Egypt', 'Fall', 22.2, 4.5);\")\n",
    "my_cursor.execute(\"SELECT temp from seasonal_info\")\n",
    "res =my_cursor.fetchall()             \n",
    "for x in res:\n",
    "  print(x, end=\"\")\n",
    "print()\n",
    "my_cursor.execute(\"SELECT DISTINCT(city) from seasonal_info\")\n",
    "res = my_cursor.fetchall()\n",
    "for x in res:                          \n",
    "  print(x, end=\"\")\n",
    "print()\n",
    "my_cursor.execute(\"SELECT * from seasonal_info where country = 'India'\")\n",
    "res = my_cursor.fetchall()\n",
    "for x in res:                             \n",
    "  print(x, end=\"\")\n",
    "print()\n",
    "my_cursor.execute(\"SELECT * from seasonal_info where Season = 'Fall'\")\n",
    "res = my_cursor.fetchall()\n",
    "for x in res:                             \n",
    "  print(x, end=\"\")\n",
    "print()\n",
    "my_cursor.execute(\"SELECT city,country,Season from seasonal_info where rainfall BETWEEN 200 and 400\")\n",
    "res = my_cursor.fetchall()\n",
    "for x in res:                                 \n",
    "  print(x, end=\"\")\n",
    "print()\n",
    "my_cursor.execute(\"SELECT city,country from seasonal_info where (Season = 'Fall' and temp > 20) Order BY temp ASC \")\n",
    "res = my_cursor.fetchall()\n",
    "for x in res:                                \n",
    "  print(x, end=\"\")\n",
    "print()\n",
    "my_cursor.execute(\"SELECT sum(rainfall) from seasonal_info where city = 'Cairo'\")\n",
    "res = my_cursor.fetchall()\n",
    "for x in res:\n",
    "  print(x, end=\"\")                                     \n",
    "print()\n",
    "my_cursor.execute(\"SELECT Season, sum(rainfall) from seasonal_info group by Season\")\n",
    "res = my_cursor.fetchall()\n",
    "for x in res:                                   \n",
    "  print(x, end=\"\")\n",
    "conn.close()"
   ]
  },
  {
   "cell_type": "markdown",
   "id": "9df7dfec",
   "metadata": {},
   "source": [
    "Ques 9"
   ]
  },
  {
   "cell_type": "code",
   "execution_count": 7,
   "id": "4fabff0f",
   "metadata": {},
   "outputs": [
    {
     "name": "stdout",
     "output_type": "stream",
     "text": [
      "1.  ['THE', 'QUICK', 'BROWN', 'FOX', 'JUMPS', 'OVER', 'THE', 'LAZY', 'DOG']\n",
      "\n",
      "\n",
      "2.  ['the', 'quick', 'brown', 'fox', 'jumps', 'over', 'the', 'lazy', 'dog']\n",
      "\n",
      "\n",
      "3.  [3, 5, 5, 3, 5, 4, 3, 4, 3]\n",
      "\n",
      "\n",
      "4.  [['THE', 'the', 3], ['QUICK', 'quick', 5], ['BROWN', 'brown', 5], ['FOX', 'fox', 3], ['JUMPS', 'jumps', 5], ['OVER', 'over', 4], ['THE', 'the', 3], ['LAZY', 'lazy', 4], ['DOG', 'dog', 3]]\n",
      "\n",
      "\n",
      "5.  ['quick', 'brown', 'jumps', 'over', 'lazy']\n"
     ]
    }
   ],
   "source": [
    "\n",
    "words = [\"The\", \"quick\", \"brown\", \"fox\", \"jumps\", \"over\", \"the\", \"lazy\", \"dog\"]\n",
    "\n",
    "\n",
    "UpperWords = [word.upper() for word in words]\n",
    "print(\"1. \",UpperWords)\n",
    "print(\"\\n\")\n",
    "\n",
    "\n",
    "LowerWords = [word.lower() for word in words]\n",
    "print(\"2. \",LowerWords)\n",
    "print(\"\\n\")\n",
    "\n",
    "\n",
    "LengthWords = []\n",
    "for w in words:\n",
    "    LengthWords.append(len(w))     \n",
    "print(\"3. \",LengthWords)\n",
    "print(\"\\n\")\n",
    "\n",
    "\n",
    "initializeCounterValue = 0\n",
    "single_List_Array = []\n",
    "    \n",
    "for j in words:\n",
    "    single_List_Array.append(UpperWords[initializeCounterValue])\n",
    "    single_List_Array.append(LowerWords[initializeCounterValue])\n",
    "    single_List_Array.append(LengthWords[initializeCounterValue])\n",
    "    initializeCounterValue = initializeCounterValue + 1\n",
    "\n",
    "delimiterVariableLimit = 3\n",
    "resultArray = [single_List_Array[additor:additor+delimiterVariableLimit] for additor in range(0, len(single_List_Array), delimiterVariableLimit)]\n",
    "print(\"4. \",resultArray)\n",
    "print(\"\\n\")\n",
    "\n",
    "\n",
    "def wordString(k, str):    \n",
    "    string = []     \n",
    "    text = str.split(\" \")     \n",
    "    for x in text:         \n",
    "        if len(x) >= k:            \n",
    "            string.append(x)             \n",
    "    return string\n",
    "    \n",
    "result_list = [''.join([str(c) for c in lst]) for lst in words]\n",
    "result_string = ' '.join(result_list)\n",
    "requiredCharacterLength = 4\n",
    "print(\"5. \",wordString(requiredCharacterLength, result_string))"
   ]
  }
 ],
 "metadata": {
  "kernelspec": {
   "display_name": "Python 3 (ipykernel)",
   "language": "python",
   "name": "python3"
  },
  "language_info": {
   "codemirror_mode": {
    "name": "ipython",
    "version": 3
   },
   "file_extension": ".py",
   "mimetype": "text/x-python",
   "name": "python",
   "nbconvert_exporter": "python",
   "pygments_lexer": "ipython3",
   "version": "3.9.12"
  }
 },
 "nbformat": 4,
 "nbformat_minor": 5
}
